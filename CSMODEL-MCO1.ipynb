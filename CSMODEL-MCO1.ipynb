{
  "cells": [
    {
      "cell_type": "markdown",
      "id": "ada6131b",
      "metadata": {},
      "source": [
        "# MCO 1 - 2012 Family Income and Expenditure Survey (FIES)\n",
        "In this Notebook, we will explore income and expenditure behavior across Filipino households using the 2012 Family Income and Expenditure Survey (FIES) dataset. We will focus on statistical inference, particularly confidence intervals and hypothesis testing for means, while also applying unsupervised learning techniques such as clustering to reveal patterns in household spending.\n",
        "\n",
        "We aim to understand how households from different income groups allocate their spending across essential categories like food, education, and utilities.\n",
        "\n",
        "The dataset, provided in the file FIES PUF 2012 Vol.1.CSV, comes from the Philippine Statistics Authority and contains anonymized microdata on household income from various sources (such as salaries, businesses, and remittances), categorized expenditures (including food, housing, education, health, and utilities), as well as demographic and geographic variables like region and urban/rural classification. Household characteristics such as household size and number of earners are also included. "
      ]
    },
    {
      "cell_type": "markdown",
      "id": "ecf9ba33-f7ac-43da-9905-b301ee5f191c",
      "metadata": {},
      "source": [
        "# Dataset Description\n",
        "\n",
        "## Overview\n",
        "\n",
        "The **Family Income and Expenditure Survey (FIES) 2012 Volume 1** is a comprehensive household-level dataset collected by the Philippine Statistics Authority (PSA). This dataset provides detailed information about Filipino families' income sources, expenditure patterns, and socio-demographic characteristics, serving as a critical resource for understanding household economic behavior and living standards in the Philippines.\n",
        "\n",
        "## Data Collection Methodology\n",
        "\n",
        "The FIES 2012 was conducted as a nationwide survey using a stratified multi-stage sampling design:\n",
        "\n",
        "- **Survey Period**: 2012\n",
        "- **Coverage**: National scope covering all regions of the Philippines\n",
        "- **Sampling Method**: Stratified multi-stage cluster sampling with Primary Sampling Units (PSUs)\n",
        "- **Data Collection**: Two-visit approach with structured questionnaires administered to selected households\n",
        "- **Weighting**: Base weights and final weights (RFACT) provided to ensure national representativeness\n",
        "\n",
        "The survey utilized a systematic sampling framework with:\n",
        "- Regional stratification (W_REGN)\n",
        "- Urban/Rural classification (URB)\n",
        "- Stratum coding (RSTR)\n",
        "- PSU identification for cluster sampling\n",
        "\n",
        "## Potential Implications and Limitations\n",
        "\n",
        "### Sampling Implications\n",
        "- **Representativeness**: The stratified sampling design ensures national and regional representativeness when proper weights are applied\n",
        "- **Temporal Limitations**: Data reflects 2012 economic conditions and may not capture more recent economic changes\n",
        "- **Reference Period Bias**: Income and expenditure data are based on recall periods (past six months for some variables), which may introduce recall bias\n",
        "- **Seasonal Variations**: Data collection timing may not fully capture seasonal income fluctuations, particularly for agricultural households\n",
        "\n",
        "### Analytical Considerations\n",
        "- **Self-reporting Bias**: Income and expenditure data rely on household self-reporting, potentially leading to underreporting of income or misclassification of expenses\n",
        "- **Informal Economy**: May underrepresent informal economic activities common in developing economies\n",
        "- **Cultural Sensitivity**: Some expenditure categories (e.g., alcohol, tobacco) may be subject to social desirability bias\n",
        "\n",
        "## Data Structure\n",
        "\n",
        "### Basic Structure\n",
        "- **Data Format**: Tabular/CSV format\n",
        "- **Unit of Analysis**: Individual households\n",
        "- **Number of Observations**: To be determined from actual dataset\n",
        "- **Data Type**: Cross-sectional survey data\n",
        "\n",
        "### Row and Column Representation\n",
        "- **Rows**: Each row represents a unique household in the survey\n",
        "- **Columns**: Each column represents a specific variable measuring household characteristics, income sources, or expenditure categories\n",
        "- **Unique Identifiers**: Households are identified through multiple ID variables (W_REGN, W_OID, W_SHSN, W_HCN)\n",
        "\n",
        "## Key Attribute Categories\n",
        "\n",
        "### 1. Identification and Sampling Variables\n",
        "- **W_REGN**: Region code\n",
        "- **W_OID**: Other unique identifier\n",
        "- **W_SHSN**: Sample household serial number\n",
        "- **W_HCN**: Household control number\n",
        "- **URB**: Urban/Rural classification\n",
        "- **BWEIGHT, RFACT**: Base and final sampling weights\n",
        "\n",
        "### 2. Income Variables (17 categories)\n",
        "**Employment Income:**\n",
        "- **AGRI_SAL**: Agricultural sector wages and salaries\n",
        "- **NONAGRI_SAL**: Non-agricultural sector wages and salaries\n",
        "- **WAGES**: Combined agricultural and non-agricultural wages\n",
        "\n",
        "**Other Income Sources:**\n",
        "- **NETSHARE**: Net share from crops, livestock, and fishing\n",
        "- **CASH_ABROAD**: Remittances and assistance from abroad\n",
        "- **CASH_DOMESTIC**: Domestic cash assistance and support\n",
        "- **RENTALS_REC**: Rental income from properties\n",
        "- **INTEREST**: Interest from deposits and loans\n",
        "- **PENSION**: Pension and retirement benefits\n",
        "- **DIVIDENDS**: Investment dividends\n",
        "\n",
        "**Entrepreneurial Income (11 categories):**\n",
        "- **NET_CFG**: Crop farming and gardening\n",
        "- **NET_LPR**: Livestock and poultry raising\n",
        "- **NET_FISH**: Fishing activities\n",
        "- **NET_RET**: Wholesale and retail trade\n",
        "- **NET_MFG**: Manufacturing\n",
        "- And 6 additional entrepreneurial categories\n",
        "\n",
        "**Derived Income:**\n",
        "- **EAINC**: Total entrepreneurial income\n",
        "- **TOINC**: Total household income\n",
        "\n",
        "### 3. Expenditure Variables (20+ categories)\n",
        "**Food Expenditure (14 detailed categories):**\n",
        "- **T_BREAD**: Bread and cereals\n",
        "- **T_MEAT**: Meat products\n",
        "- **T_FISH**: Fish and seafood\n",
        "- **T_MILK**: Milk, cheese, and eggs\n",
        "- **T_FRUIT, T_VEG**: Fruits and vegetables\n",
        "- **T_FOOD_HOME**: Total food consumed at home\n",
        "- **T_FOOD_OUTSIDE**: Food consumed outside home\n",
        "- **T_FOOD**: Total food expenditure\n",
        "\n",
        "**Non-Food Expenditure:**\n",
        "- **T_CLOTH**: Clothing and footwear\n",
        "- **T_HOUSING_WATER**: Housing, utilities, and water\n",
        "- **T_TRANSPORT**: Transportation\n",
        "- **T_HEALTH**: Healthcare\n",
        "- **T_EDUCATION**: Education\n",
        "- **T_RECREATION**: Recreation and culture\n",
        "- **T_COMMUNICATION**: Communication services\n",
        "\n",
        "**Derived Expenditure:**\n",
        "- **T_TOTEX**: Total expenditure\n",
        "- **T_TOTDIS**: Total disbursements\n",
        "\n",
        "### 4. Household Demographics (15 variables)\n",
        "- **FSIZE**: Family size\n",
        "- **SEX, AGE, MS**: Head of household characteristics\n",
        "- **HGC**: Education level of household head\n",
        "- **MEMBERS**: Total family members\n",
        "- **AGELESS5, AGE5_17**: Age distribution of family members\n",
        "- **EMPLOYED_PAY, EMPLOYED_PROF**: Employment status of family members\n",
        "\n",
        "### 5. Housing and Assets (20+ variables)\n",
        "**Housing Characteristics:**\n",
        "- **BLDG_TYPE**: Type of building\n",
        "- **ROOF, WALLS**: Construction materials\n",
        "- **TENURE**: Housing tenure status\n",
        "- **TOILET**: Toilet facilities\n",
        "- **ELECTRIC**: Electricity access\n",
        "- **WATER**: Water source\n",
        "\n",
        "**Asset Ownership (Quantities):**\n",
        "- **TV_QTY, RADIO_QTY**: Entertainment devices\n",
        "- **REF_QTY, WASH_QTY**: Household appliances\n",
        "- **CAR_QTY, MOTORCYCLE_QTY**: Transportation assets\n",
        "- **PC_QTY, CELLPHONE_QTY**: Technology assets\n",
        "\n",
        "### 6. Derived Analysis Variables\n",
        "- **PCINC**: Per capita income\n",
        "- **NATPC, NATDC**: National income decile classifications\n",
        "- **REGPC, REGDC**: Regional income decile classifications\n",
        "\n",
        "## Dataset Significance\n",
        "\n",
        "This dataset is significant for the following:\n",
        "- **Poverty Analysis**: Income and expenditure patterns for poverty measurement\n",
        "- **Consumer Behavior Studies**: Detailed expenditure breakdowns across categories\n",
        "- **Regional Economic Analysis**: Geographic variations in household economics\n",
        "- **Policy Research**: Evidence base for social and economic policy development\n",
        "- **Inequality Studies**: Income distribution and household welfare analysis\n",
        "\n",
        "The comprehensive nature of the FIES 2012 dataset makes it a valuable resource for understanding household economic behavior, consumption patterns, and living standards in the Philippines during the 2012 period."
      ]
    },
    {
      "cell_type": "markdown",
      "id": "a1b4bd84",
      "metadata": {},
      "source": [
        "## Research Questions\n",
        "\n",
        "### General Research Question:\n",
        "What are the key differences in expenditure allocation (e.g., food, education, utilities) across income groups?\n",
        "\n",
        "#### Supporting Research Questions:\n",
        "1. What are the average and median incomes in each income group?\n",
        "2. Which expenditure category takes up the largest portion of total expenses for each group?\n",
        "3. Do wealthier households spend a higher or lower percentage of their income on basic needs like food and utilities?\n",
        "4. Are low-income households more likely to prioritize essential expenses over discretionary (e.g., entertainment, travel) ones?\n",
        "5. How does the ratio of recreational spending to income change as income increases?\n",
        "6. How does the ratio of education spending to income change as income increases?\n",
        "\n"
      ]
    },
    {
      "cell_type": "markdown",
      "id": "cdf4c9eb",
      "metadata": {},
      "source": [
        "## Importing Libraries\n",
        "\n",
        "We will import essential Python libraries for data analysis and visualization. `numpy` is used for numerical operations, `pandas` for data manipulation and analysis, `matplotlib.pyplot` for creating visualizations, and `scipy.stats` for statistical functions and hypothesis testing."
      ]
    },
    {
      "cell_type": "code",
      "execution_count": 1,
      "id": "9da93fba",
      "metadata": {},
      "outputs": [],
      "source": [
        "import numpy as np\n",
        "import pandas as pd\n",
        "import matplotlib.pyplot as plt\n",
        "from scipy.stats import norm\n",
        "from scipy.stats import ttest_ind\n",
        "import seaborn as sns"
      ]
    },
    {
      "cell_type": "markdown",
      "id": "9f574e5d",
      "metadata": {},
      "source": [
        "## Family Income and Expenditure Data\n"
      ]
    },
    {
      "cell_type": "markdown",
      "id": "2b335788",
      "metadata": {},
      "source": [
        "We will load the Family Income and Expenditure Survey (FIES) dataset from the provided CSV file using pandas' `read_csv` function. After loading, we will use the `head()` method to display the first few rows and get an initial look at the data structure and contents."
      ]
    },
    {
      "cell_type": "code",
      "execution_count": 2,
      "id": "b91c3c1d",
      "metadata": {},
      "outputs": [
        {
          "data": {
            "text/html": [
              "<div>\n",
              "<style scoped>\n",
              "    .dataframe tbody tr th:only-of-type {\n",
              "        vertical-align: middle;\n",
              "    }\n",
              "\n",
              "    .dataframe tbody tr th {\n",
              "        vertical-align: top;\n",
              "    }\n",
              "\n",
              "    .dataframe thead th {\n",
              "        text-align: right;\n",
              "    }\n",
              "</style>\n",
              "<table border=\"1\" class=\"dataframe\">\n",
              "  <thead>\n",
              "    <tr style=\"text-align: right;\">\n",
              "      <th></th>\n",
              "      <th>W_REGN</th>\n",
              "      <th>W_OID</th>\n",
              "      <th>W_SHSN</th>\n",
              "      <th>W_HCN</th>\n",
              "      <th>URB</th>\n",
              "      <th>RSTR</th>\n",
              "      <th>PSU</th>\n",
              "      <th>BWEIGHT</th>\n",
              "      <th>RFACT</th>\n",
              "      <th>FSIZE</th>\n",
              "      <th>...</th>\n",
              "      <th>PC_QTY</th>\n",
              "      <th>OVEN_QTY</th>\n",
              "      <th>MOTOR_BANCA_QTY</th>\n",
              "      <th>MOTORCYCLE_QTY</th>\n",
              "      <th>POP_ADJ</th>\n",
              "      <th>PCINC</th>\n",
              "      <th>NATPC</th>\n",
              "      <th>NATDC</th>\n",
              "      <th>REGDC</th>\n",
              "      <th>REGPC</th>\n",
              "    </tr>\n",
              "  </thead>\n",
              "  <tbody>\n",
              "    <tr>\n",
              "      <th>0</th>\n",
              "      <td>14</td>\n",
              "      <td>101001000</td>\n",
              "      <td>2</td>\n",
              "      <td>25</td>\n",
              "      <td>2</td>\n",
              "      <td>21100</td>\n",
              "      <td>415052</td>\n",
              "      <td>138.25</td>\n",
              "      <td>200.6576</td>\n",
              "      <td>3.0</td>\n",
              "      <td>...</td>\n",
              "      <td>01</td>\n",
              "      <td>01</td>\n",
              "      <td></td>\n",
              "      <td></td>\n",
              "      <td>0.946172</td>\n",
              "      <td>108417.00</td>\n",
              "      <td>9</td>\n",
              "      <td>8</td>\n",
              "      <td>8</td>\n",
              "      <td>9</td>\n",
              "    </tr>\n",
              "    <tr>\n",
              "      <th>1</th>\n",
              "      <td>14</td>\n",
              "      <td>101001000</td>\n",
              "      <td>3</td>\n",
              "      <td>43</td>\n",
              "      <td>2</td>\n",
              "      <td>21100</td>\n",
              "      <td>415052</td>\n",
              "      <td>138.25</td>\n",
              "      <td>200.6576</td>\n",
              "      <td>12.5</td>\n",
              "      <td>...</td>\n",
              "      <td></td>\n",
              "      <td>01</td>\n",
              "      <td></td>\n",
              "      <td>01</td>\n",
              "      <td>0.946172</td>\n",
              "      <td>30631.60</td>\n",
              "      <td>5</td>\n",
              "      <td>9</td>\n",
              "      <td>9</td>\n",
              "      <td>4</td>\n",
              "    </tr>\n",
              "    <tr>\n",
              "      <th>2</th>\n",
              "      <td>14</td>\n",
              "      <td>101001000</td>\n",
              "      <td>4</td>\n",
              "      <td>62</td>\n",
              "      <td>2</td>\n",
              "      <td>21100</td>\n",
              "      <td>415052</td>\n",
              "      <td>138.25</td>\n",
              "      <td>200.6576</td>\n",
              "      <td>2.0</td>\n",
              "      <td>...</td>\n",
              "      <td></td>\n",
              "      <td>01</td>\n",
              "      <td></td>\n",
              "      <td></td>\n",
              "      <td>0.946172</td>\n",
              "      <td>86992.50</td>\n",
              "      <td>9</td>\n",
              "      <td>6</td>\n",
              "      <td>6</td>\n",
              "      <td>8</td>\n",
              "    </tr>\n",
              "    <tr>\n",
              "      <th>3</th>\n",
              "      <td>14</td>\n",
              "      <td>101001000</td>\n",
              "      <td>5</td>\n",
              "      <td>79</td>\n",
              "      <td>2</td>\n",
              "      <td>21100</td>\n",
              "      <td>415052</td>\n",
              "      <td>138.25</td>\n",
              "      <td>200.6576</td>\n",
              "      <td>4.0</td>\n",
              "      <td>...</td>\n",
              "      <td></td>\n",
              "      <td>01</td>\n",
              "      <td></td>\n",
              "      <td></td>\n",
              "      <td>0.946172</td>\n",
              "      <td>43325.75</td>\n",
              "      <td>6</td>\n",
              "      <td>6</td>\n",
              "      <td>6</td>\n",
              "      <td>6</td>\n",
              "    </tr>\n",
              "    <tr>\n",
              "      <th>4</th>\n",
              "      <td>14</td>\n",
              "      <td>101001000</td>\n",
              "      <td>10</td>\n",
              "      <td>165</td>\n",
              "      <td>2</td>\n",
              "      <td>21100</td>\n",
              "      <td>415052</td>\n",
              "      <td>138.25</td>\n",
              "      <td>200.6576</td>\n",
              "      <td>5.0</td>\n",
              "      <td>...</td>\n",
              "      <td></td>\n",
              "      <td></td>\n",
              "      <td></td>\n",
              "      <td>01</td>\n",
              "      <td>0.946172</td>\n",
              "      <td>37481.80</td>\n",
              "      <td>6</td>\n",
              "      <td>6</td>\n",
              "      <td>6</td>\n",
              "      <td>5</td>\n",
              "    </tr>\n",
              "  </tbody>\n",
              "</table>\n",
              "<p>5 rows × 119 columns</p>\n",
              "</div>"
            ],
            "text/plain": [
              "   W_REGN      W_OID  W_SHSN  W_HCN  URB   RSTR     PSU  BWEIGHT     RFACT  \\\n",
              "0      14  101001000       2     25    2  21100  415052   138.25  200.6576   \n",
              "1      14  101001000       3     43    2  21100  415052   138.25  200.6576   \n",
              "2      14  101001000       4     62    2  21100  415052   138.25  200.6576   \n",
              "3      14  101001000       5     79    2  21100  415052   138.25  200.6576   \n",
              "4      14  101001000      10    165    2  21100  415052   138.25  200.6576   \n",
              "\n",
              "   FSIZE  ...  PC_QTY  OVEN_QTY  MOTOR_BANCA_QTY  MOTORCYCLE_QTY   POP_ADJ  \\\n",
              "0    3.0  ...      01        01                                   0.946172   \n",
              "1   12.5  ...                01                               01  0.946172   \n",
              "2    2.0  ...                01                                   0.946172   \n",
              "3    4.0  ...                01                                   0.946172   \n",
              "4    5.0  ...                                                 01  0.946172   \n",
              "\n",
              "       PCINC  NATPC  NATDC  REGDC  REGPC  \n",
              "0  108417.00      9      8      8      9  \n",
              "1   30631.60      5      9      9      4  \n",
              "2   86992.50      9      6      6      8  \n",
              "3   43325.75      6      6      6      6  \n",
              "4   37481.80      6      6      6      5  \n",
              "\n",
              "[5 rows x 119 columns]"
            ]
          },
          "execution_count": 2,
          "metadata": {},
          "output_type": "execute_result"
        }
      ],
      "source": [
        "fies_df = pd.read_csv('./Dataset/FIES_PUF_2012_Vol.1.CSV')\n",
        "fies_df.head()"
      ]
    },
    {
      "cell_type": "markdown",
      "id": "526b7e51",
      "metadata": {},
      "source": [
        "We will use the `info()` function to get a concise summary of the DataFrame, including the number of non-null entries, column data types, and memory usage. This helps us understand the structure and completeness of the dataset."
      ]
    },
    {
      "cell_type": "code",
      "execution_count": 3,
      "id": "bbf0f9c9",
      "metadata": {},
      "outputs": [
        {
          "name": "stdout",
          "output_type": "stream",
          "text": [
            "<class 'pandas.core.frame.DataFrame'>\n",
            "RangeIndex: 40171 entries, 0 to 40170\n",
            "Columns: 119 entries, W_REGN to REGPC\n",
            "dtypes: float64(5), int64(92), object(22)\n",
            "memory usage: 36.5+ MB\n"
          ]
        }
      ],
      "source": [
        "fies_df.info()"
      ]
    },
    {
      "cell_type": "markdown",
      "id": "26325cce",
      "metadata": {},
      "source": [
        "Next, we will use the `describe()` function to generate descriptive statistics for the numerical columns, such as mean, standard deviation, minimum, and maximum values. This provides an overview of the distribution and central tendencies of the data."
      ]
    },
    {
      "cell_type": "code",
      "execution_count": 48,
      "id": "0d678baa",
      "metadata": {},
      "outputs": [
        {
          "data": {
            "text/html": [
              "<div>\n",
              "<style scoped>\n",
              "    .dataframe tbody tr th:only-of-type {\n",
              "        vertical-align: middle;\n",
              "    }\n",
              "\n",
              "    .dataframe tbody tr th {\n",
              "        vertical-align: top;\n",
              "    }\n",
              "\n",
              "    .dataframe thead th {\n",
              "        text-align: right;\n",
              "    }\n",
              "</style>\n",
              "<table border=\"1\" class=\"dataframe\">\n",
              "  <thead>\n",
              "    <tr style=\"text-align: right;\">\n",
              "      <th></th>\n",
              "      <th>W_REGN</th>\n",
              "      <th>W_OID</th>\n",
              "      <th>W_SHSN</th>\n",
              "      <th>W_HCN</th>\n",
              "      <th>URB</th>\n",
              "      <th>RSTR</th>\n",
              "      <th>PSU</th>\n",
              "      <th>BWEIGHT</th>\n",
              "      <th>RFACT</th>\n",
              "      <th>FSIZE</th>\n",
              "      <th>...</th>\n",
              "      <th>HSE_ALTERTN</th>\n",
              "      <th>TOILET</th>\n",
              "      <th>ELECTRIC</th>\n",
              "      <th>WATER</th>\n",
              "      <th>POP_ADJ</th>\n",
              "      <th>PCINC</th>\n",
              "      <th>NATPC</th>\n",
              "      <th>NATDC</th>\n",
              "      <th>REGDC</th>\n",
              "      <th>REGPC</th>\n",
              "    </tr>\n",
              "  </thead>\n",
              "  <tbody>\n",
              "    <tr>\n",
              "      <th>count</th>\n",
              "      <td>40171.000000</td>\n",
              "      <td>4.017100e+04</td>\n",
              "      <td>40171.000000</td>\n",
              "      <td>40171.000000</td>\n",
              "      <td>40171.000000</td>\n",
              "      <td>40171.000000</td>\n",
              "      <td>40171.000000</td>\n",
              "      <td>40171.000000</td>\n",
              "      <td>40171.000000</td>\n",
              "      <td>40171.000000</td>\n",
              "      <td>...</td>\n",
              "      <td>40171.000000</td>\n",
              "      <td>40171.000000</td>\n",
              "      <td>40171.000000</td>\n",
              "      <td>40171.000000</td>\n",
              "      <td>40171.000000</td>\n",
              "      <td>4.017100e+04</td>\n",
              "      <td>40171.000000</td>\n",
              "      <td>40171.000000</td>\n",
              "      <td>40171.000000</td>\n",
              "      <td>40171.000000</td>\n",
              "    </tr>\n",
              "    <tr>\n",
              "      <th>mean</th>\n",
              "      <td>13.019890</td>\n",
              "      <td>4.210536e+09</td>\n",
              "      <td>9.633666</td>\n",
              "      <td>1563.601753</td>\n",
              "      <td>1.617311</td>\n",
              "      <td>21547.277215</td>\n",
              "      <td>258123.702099</td>\n",
              "      <td>340.330363</td>\n",
              "      <td>533.363298</td>\n",
              "      <td>4.699223</td>\n",
              "      <td>...</td>\n",
              "      <td>1.940330</td>\n",
              "      <td>1.718130</td>\n",
              "      <td>1.131563</td>\n",
              "      <td>3.186030</td>\n",
              "      <td>0.942329</td>\n",
              "      <td>5.432433e+04</td>\n",
              "      <td>5.233303</td>\n",
              "      <td>5.238306</td>\n",
              "      <td>5.445769</td>\n",
              "      <td>5.455129</td>\n",
              "    </tr>\n",
              "    <tr>\n",
              "      <th>std</th>\n",
              "      <td>11.995555</td>\n",
              "      <td>2.285729e+09</td>\n",
              "      <td>6.198442</td>\n",
              "      <td>2977.363506</td>\n",
              "      <td>0.486049</td>\n",
              "      <td>3520.981146</td>\n",
              "      <td>112143.268816</td>\n",
              "      <td>112.377931</td>\n",
              "      <td>209.996517</td>\n",
              "      <td>2.194050</td>\n",
              "      <td>...</td>\n",
              "      <td>0.236877</td>\n",
              "      <td>1.539145</td>\n",
              "      <td>0.338019</td>\n",
              "      <td>2.405758</td>\n",
              "      <td>0.038631</td>\n",
              "      <td>7.372111e+04</td>\n",
              "      <td>2.874581</td>\n",
              "      <td>2.856486</td>\n",
              "      <td>2.866703</td>\n",
              "      <td>2.864137</td>\n",
              "    </tr>\n",
              "    <tr>\n",
              "      <th>min</th>\n",
              "      <td>1.000000</td>\n",
              "      <td>1.010010e+08</td>\n",
              "      <td>1.000000</td>\n",
              "      <td>1.000000</td>\n",
              "      <td>1.000000</td>\n",
              "      <td>2475.000000</td>\n",
              "      <td>100010.000000</td>\n",
              "      <td>92.250000</td>\n",
              "      <td>126.164300</td>\n",
              "      <td>1.000000</td>\n",
              "      <td>...</td>\n",
              "      <td>1.000000</td>\n",
              "      <td>0.000000</td>\n",
              "      <td>1.000000</td>\n",
              "      <td>1.000000</td>\n",
              "      <td>0.876132</td>\n",
              "      <td>2.979200e+03</td>\n",
              "      <td>1.000000</td>\n",
              "      <td>1.000000</td>\n",
              "      <td>1.000000</td>\n",
              "      <td>1.000000</td>\n",
              "    </tr>\n",
              "    <tr>\n",
              "      <th>25%</th>\n",
              "      <td>6.000000</td>\n",
              "      <td>2.239012e+09</td>\n",
              "      <td>4.000000</td>\n",
              "      <td>95.000000</td>\n",
              "      <td>1.000000</td>\n",
              "      <td>21100.000000</td>\n",
              "      <td>116384.000000</td>\n",
              "      <td>271.500000</td>\n",
              "      <td>399.615000</td>\n",
              "      <td>3.000000</td>\n",
              "      <td>...</td>\n",
              "      <td>2.000000</td>\n",
              "      <td>1.000000</td>\n",
              "      <td>1.000000</td>\n",
              "      <td>1.000000</td>\n",
              "      <td>0.924450</td>\n",
              "      <td>1.996803e+04</td>\n",
              "      <td>3.000000</td>\n",
              "      <td>3.000000</td>\n",
              "      <td>3.000000</td>\n",
              "      <td>3.000000</td>\n",
              "    </tr>\n",
              "    <tr>\n",
              "      <th>50%</th>\n",
              "      <td>10.000000</td>\n",
              "      <td>4.112005e+09</td>\n",
              "      <td>9.000000</td>\n",
              "      <td>204.000000</td>\n",
              "      <td>2.000000</td>\n",
              "      <td>22100.000000</td>\n",
              "      <td>216212.000000</td>\n",
              "      <td>329.750000</td>\n",
              "      <td>509.874900</td>\n",
              "      <td>4.500000</td>\n",
              "      <td>...</td>\n",
              "      <td>2.000000</td>\n",
              "      <td>1.000000</td>\n",
              "      <td>1.000000</td>\n",
              "      <td>3.000000</td>\n",
              "      <td>0.940724</td>\n",
              "      <td>3.336975e+04</td>\n",
              "      <td>5.000000</td>\n",
              "      <td>5.000000</td>\n",
              "      <td>5.000000</td>\n",
              "      <td>5.000000</td>\n",
              "    </tr>\n",
              "    <tr>\n",
              "      <th>75%</th>\n",
              "      <td>14.000000</td>\n",
              "      <td>6.210006e+09</td>\n",
              "      <td>14.000000</td>\n",
              "      <td>393.000000</td>\n",
              "      <td>2.000000</td>\n",
              "      <td>23200.000000</td>\n",
              "      <td>316519.000000</td>\n",
              "      <td>428.710000</td>\n",
              "      <td>634.160800</td>\n",
              "      <td>6.000000</td>\n",
              "      <td>...</td>\n",
              "      <td>2.000000</td>\n",
              "      <td>2.000000</td>\n",
              "      <td>1.000000</td>\n",
              "      <td>4.000000</td>\n",
              "      <td>0.961401</td>\n",
              "      <td>6.175867e+04</td>\n",
              "      <td>8.000000</td>\n",
              "      <td>8.000000</td>\n",
              "      <td>8.000000</td>\n",
              "      <td>8.000000</td>\n",
              "    </tr>\n",
              "    <tr>\n",
              "      <th>max</th>\n",
              "      <td>42.000000</td>\n",
              "      <td>9.804035e+09</td>\n",
              "      <td>30.000000</td>\n",
              "      <td>8026.000000</td>\n",
              "      <td>2.000000</td>\n",
              "      <td>29000.000000</td>\n",
              "      <td>416581.000000</td>\n",
              "      <td>1630.200000</td>\n",
              "      <td>2895.814900</td>\n",
              "      <td>20.500000</td>\n",
              "      <td>...</td>\n",
              "      <td>2.000000</td>\n",
              "      <td>7.000000</td>\n",
              "      <td>2.000000</td>\n",
              "      <td>12.000000</td>\n",
              "      <td>1.058416</td>\n",
              "      <td>3.231120e+06</td>\n",
              "      <td>10.000000</td>\n",
              "      <td>10.000000</td>\n",
              "      <td>10.000000</td>\n",
              "      <td>10.000000</td>\n",
              "    </tr>\n",
              "  </tbody>\n",
              "</table>\n",
              "<p>8 rows × 97 columns</p>\n",
              "</div>"
            ],
            "text/plain": [
              "             W_REGN         W_OID        W_SHSN         W_HCN           URB  \\\n",
              "count  40171.000000  4.017100e+04  40171.000000  40171.000000  40171.000000   \n",
              "mean      13.019890  4.210536e+09      9.633666   1563.601753      1.617311   \n",
              "std       11.995555  2.285729e+09      6.198442   2977.363506      0.486049   \n",
              "min        1.000000  1.010010e+08      1.000000      1.000000      1.000000   \n",
              "25%        6.000000  2.239012e+09      4.000000     95.000000      1.000000   \n",
              "50%       10.000000  4.112005e+09      9.000000    204.000000      2.000000   \n",
              "75%       14.000000  6.210006e+09     14.000000    393.000000      2.000000   \n",
              "max       42.000000  9.804035e+09     30.000000   8026.000000      2.000000   \n",
              "\n",
              "               RSTR            PSU       BWEIGHT         RFACT         FSIZE  \\\n",
              "count  40171.000000   40171.000000  40171.000000  40171.000000  40171.000000   \n",
              "mean   21547.277215  258123.702099    340.330363    533.363298      4.699223   \n",
              "std     3520.981146  112143.268816    112.377931    209.996517      2.194050   \n",
              "min     2475.000000  100010.000000     92.250000    126.164300      1.000000   \n",
              "25%    21100.000000  116384.000000    271.500000    399.615000      3.000000   \n",
              "50%    22100.000000  216212.000000    329.750000    509.874900      4.500000   \n",
              "75%    23200.000000  316519.000000    428.710000    634.160800      6.000000   \n",
              "max    29000.000000  416581.000000   1630.200000   2895.814900     20.500000   \n",
              "\n",
              "       ...   HSE_ALTERTN        TOILET      ELECTRIC         WATER  \\\n",
              "count  ...  40171.000000  40171.000000  40171.000000  40171.000000   \n",
              "mean   ...      1.940330      1.718130      1.131563      3.186030   \n",
              "std    ...      0.236877      1.539145      0.338019      2.405758   \n",
              "min    ...      1.000000      0.000000      1.000000      1.000000   \n",
              "25%    ...      2.000000      1.000000      1.000000      1.000000   \n",
              "50%    ...      2.000000      1.000000      1.000000      3.000000   \n",
              "75%    ...      2.000000      2.000000      1.000000      4.000000   \n",
              "max    ...      2.000000      7.000000      2.000000     12.000000   \n",
              "\n",
              "            POP_ADJ         PCINC         NATPC         NATDC         REGDC  \\\n",
              "count  40171.000000  4.017100e+04  40171.000000  40171.000000  40171.000000   \n",
              "mean       0.942329  5.432433e+04      5.233303      5.238306      5.445769   \n",
              "std        0.038631  7.372111e+04      2.874581      2.856486      2.866703   \n",
              "min        0.876132  2.979200e+03      1.000000      1.000000      1.000000   \n",
              "25%        0.924450  1.996803e+04      3.000000      3.000000      3.000000   \n",
              "50%        0.940724  3.336975e+04      5.000000      5.000000      5.000000   \n",
              "75%        0.961401  6.175867e+04      8.000000      8.000000      8.000000   \n",
              "max        1.058416  3.231120e+06     10.000000     10.000000     10.000000   \n",
              "\n",
              "              REGPC  \n",
              "count  40171.000000  \n",
              "mean       5.455129  \n",
              "std        2.864137  \n",
              "min        1.000000  \n",
              "25%        3.000000  \n",
              "50%        5.000000  \n",
              "75%        8.000000  \n",
              "max       10.000000  \n",
              "\n",
              "[8 rows x 97 columns]"
            ]
          },
          "execution_count": 48,
          "metadata": {},
          "output_type": "execute_result"
        }
      ],
      "source": [
        "fies_df.describe()"
      ]
    },
    {
      "cell_type": "markdown",
      "id": "2948415f",
      "metadata": {},
      "source": [
        "### Data Cleaning"
      ]
    },
    {
      "cell_type": "markdown",
      "id": "19f3801b",
      "metadata": {},
      "source": [
        "#### Multiple Representations and Default Values\n",
        "\n",
        "When cleaning data, it is important to check for multiple representations of the same value, especially in categorical columns. Multiple representations can occur when the same category is recorded in different ways (e.g., \"Male\", \"male\", \"M\", or \"m\"). This can lead to inaccurate analysis and misleading results. In this dataset, we examined the categorical columns to identify any such inconsistencies. "
      ]
    },
    {
      "cell_type": "code",
      "execution_count": 49,
      "id": "c5222793",
      "metadata": {},
      "outputs": [
        {
          "name": "stdout",
          "output_type": "stream",
          "text": [
            "Categorical columns: Index(['OCCUP', 'KB', 'CW', 'AGELESS5', 'AGE5_17', 'EMPLOYED_PAY',\n",
            "       'EMPLOYED_PROF', 'DISTANCE', 'RADIO_QTY', 'TV_QTY', 'CD_QTY',\n",
            "       'STEREO_QTY', 'REF_QTY', 'WASH_QTY', 'AIRCON_QTY', 'CAR_QTY',\n",
            "       'LANDLINE_QTY', 'CELLPHONE_QTY', 'PC_QTY', 'OVEN_QTY',\n",
            "       'MOTOR_BANCA_QTY', 'MOTORCYCLE_QTY'],\n",
            "      dtype='object')\n"
          ]
        }
      ],
      "source": [
        "# Check if there are categorical columns\n",
        "categorical_columns = fies_df.select_dtypes(include=['object']).columns\n",
        "print(\"Categorical columns:\", categorical_columns)"
      ]
    },
    {
      "cell_type": "markdown",
      "id": "a6878472",
      "metadata": {},
      "source": [
        "There are multiple categorical columns, but upon manual inspection, these were flagged as categorical due to having spaces as values instead of NaN. We should replace continuous spaces with np.nan, convert these columns into numeric types if applicable, then print categorical columns again to verify."
      ]
    },
    {
      "cell_type": "code",
      "execution_count": 50,
      "id": "8da0f430",
      "metadata": {},
      "outputs": [
        {
          "name": "stdout",
          "output_type": "stream",
          "text": [
            "Categorical columns: Index([], dtype='object')\n"
          ]
        },
        {
          "name": "stderr",
          "output_type": "stream",
          "text": [
            "C:\\Users\\Diane\\AppData\\Local\\Temp\\ipykernel_2540\\2939810117.py:6: FutureWarning: errors='ignore' is deprecated and will raise in a future version. Use to_numeric without passing `errors` and catch exceptions explicitly instead\n",
            "  fies_df[col] = pd.to_numeric(fies_df[col], errors='ignore')\n"
          ]
        }
      ],
      "source": [
        "# Replace cells with only spaces or empty strings with np.nan\n",
        "fies_df = fies_df.replace(r'^\\s*$', np.nan, regex=True)\n",
        "\n",
        "# Convert columns that can be numeric to numeric types\n",
        "for col in fies_df.columns:\n",
        "    fies_df[col] = pd.to_numeric(fies_df[col], errors='ignore')\n",
        "\n",
        "# Check if there are categorical columns\n",
        "categorical_columns = fies_df.select_dtypes(include=['object']).columns\n",
        "print(\"Categorical columns:\", categorical_columns)"
      ]
    },
    {
      "cell_type": "markdown",
      "id": "45fe8e34",
      "metadata": {},
      "source": [
        "Since there are no categorical columns present, there are no issues with multiple representations in this case. Moreover, there are also no cases of inconsistent formatting in the dataset."
      ]
    },
    {
      "cell_type": "markdown",
      "id": "8df12b9e",
      "metadata": {},
      "source": [
        "#### Checking for Incorrect Data Types\n",
        "\n",
        "It is important to ensure that each column in the dataset contains consistent data types. Inconsistent data types within a column (e.g., mixing strings and numbers) can lead to errors during analysis and may affect the results of computations or visualizations. To check for inconsistent data types, we examine each column to see if it contains more than one type of data. If any columns are found with mixed types, they may require cleaning or conversion to a uniform type before proceeding with further analysis."
      ]
    },
    {
      "cell_type": "code",
      "execution_count": 51,
      "id": "9f79988f",
      "metadata": {},
      "outputs": [
        {
          "name": "stdout",
          "output_type": "stream",
          "text": [
            "Number of columns with mixed data types: 0\n"
          ]
        }
      ],
      "source": [
        "# Check if any column contains more than one data type\n",
        "numOfColumns = 0;\n",
        "\n",
        "for col in fies_df.columns:\n",
        "    types_in_col = fies_df[col].apply(type).unique()\n",
        "    if len(types_in_col) > 1:\n",
        "        numOfColumns += 1\n",
        "print(\"Number of columns with mixed data types:\", numOfColumns)"
      ]
    },
    {
      "cell_type": "markdown",
      "id": "44944b63",
      "metadata": {},
      "source": [
        "After checking each column for mixed data types, we found that all columns in the dataset contain consistent data types. This ensures that the data is clean and ready for further analysis without the need for additional type conversions."
      ]
    },
    {
      "cell_type": "markdown",
      "id": "d10883d6",
      "metadata": {},
      "source": [
        "#### Treating Missing Values\n",
        "\n",
        "Handling missing values is an essential part of data preprocessing to ensure the accuracy and reliability of our analysis. In this dataset, missing values are primarily found in columns related to household item quantities.\n",
        "\n",
        "For these columns with missing values, we will use appropriate strategies depending on how these relate to our research questions. This approach allows us to maximize the use of the dataset."
      ]
    },
    {
      "cell_type": "code",
      "execution_count": 20,
      "id": "06f3fe47",
      "metadata": {},
      "outputs": [
        {
          "name": "stdout",
          "output_type": "stream",
          "text": [
            "Columns with missing values and their percentages:\n",
            "OCCUP              18.36%\n",
            "KB                 18.36%\n",
            "CW                 18.36%\n",
            "AGELESS5           38.24%\n",
            "AGE5_17             20.5%\n",
            "EMPLOYED_PAY       20.65%\n",
            "EMPLOYED_PROF      31.61%\n",
            "DISTANCE           41.84%\n",
            "RADIO_QTY          39.96%\n",
            "TV_QTY             19.45%\n",
            "CD_QTY             35.51%\n",
            "STEREO_QTY         57.29%\n",
            "REF_QTY            44.26%\n",
            "WASH_QTY           50.05%\n",
            "AIRCON_QTY          63.8%\n",
            "CAR_QTY            65.11%\n",
            "LANDLINE_QTY       65.05%\n",
            "CELLPHONE_QTY      15.99%\n",
            "PC_QTY             58.33%\n",
            "OVEN_QTY           60.08%\n",
            "MOTOR_BANCA_QTY    68.55%\n",
            "MOTORCYCLE_QTY     57.57%\n",
            "dtype: object\n"
          ]
        }
      ],
      "source": [
        "# Show only columns with missing values and their missing percentage\n",
        "missing_cols = fies_df.columns[fies_df.isnull().any()]\n",
        "missing_percent = fies_df[missing_cols].isnull().mean() * 100\n",
        "\n",
        "print(\"Columns with missing values and their percentages:\")\n",
        "print(missing_percent.round(2).astype(str) + '%')"
      ]
    },
    {
      "cell_type": "markdown",
      "id": "b61cb343",
      "metadata": {},
      "source": [
        "Although there are many missing values in the dataset, they are primarily found in columns that are not essential for answering our research questions. Therefore, we can drop these columns, especially since they do not hold any relation to our research questions."
      ]
    },
    {
      "cell_type": "code",
      "execution_count": 53,
      "id": "a4ae17c1",
      "metadata": {},
      "outputs": [
        {
          "name": "stdout",
          "output_type": "stream",
          "text": [
            "Columns with missing values and their percentages:\n",
            "Series([], dtype: object)\n"
          ]
        }
      ],
      "source": [
        "# Drop columns with missing values\n",
        "fies_df = fies_df.dropna(axis=1)\n",
        "\n",
        "# Show again columns with missing values and their missing percentage\n",
        "missing_cols = fies_df.columns[fies_df.isnull().any()]\n",
        "missing_percent = fies_df[missing_cols].isnull().mean() * 100\n",
        "\n",
        "print(\"Columns with missing values and their percentages:\")\n",
        "print(missing_percent.round(2).astype(str) + '%')"
      ]
    },
    {
      "cell_type": "markdown",
      "id": "68eb3236",
      "metadata": {},
      "source": [
        "#### Treating duplicates\n",
        "\n",
        "To ensure data integrity and avoid skewed analysis, it is important to check for and remove duplicate rows in the dataset. Duplicate entries can occur due to data entry errors or merging datasets from multiple sources. By using the `drop_duplicates()` function, we can identify and remove any repeated rows. We also compare the number of rows before and after this operation to confirm how many duplicates, if any, were found and removed."
      ]
    },
    {
      "cell_type": "code",
      "execution_count": 54,
      "id": "77414806",
      "metadata": {},
      "outputs": [
        {
          "name": "stdout",
          "output_type": "stream",
          "text": [
            "Initial categories: 40171, Final categories after dropping duplicates: 40171\n"
          ]
        }
      ],
      "source": [
        "# Drop duplicate rows based on all columns\n",
        "\n",
        "initial_rows = fies_df.shape[0]\n",
        "fies_df.drop_duplicates(inplace=True)\n",
        "final_rows = fies_df.shape[0]\n",
        "print(f\"Initial categories: {initial_rows}, Final categories after dropping duplicates: {final_rows}\")\n"
      ]
    },
    {
      "cell_type": "markdown",
      "id": "b42e73b7",
      "metadata": {},
      "source": [
        "Here, we can see that after applying the `drop_duplicates()` function, the number of categories remains the same, which means that no categories have been duplicated.\n"
      ]
    },
    {
      "cell_type": "markdown",
      "id": "432e589a",
      "metadata": {},
      "source": [
        "### Outlier Detection for Key Variables\n",
        "\n",
        "Outlier detection is a crucial step in data analysis to identify values that deviate significantly from the majority of the data. Outliers can arise due to data entry errors, measurement anomalies, or genuine extreme values. Their presence can distort statistical analyses and lead to misleading conclusions, especially when calculating means or performing hypothesis tests.\n",
        "\n",
        "For this analysis, we focus on detecting outliers in the following key variables:\n",
        "- **Total Income (`TOINC`)**: Represents the overall household income from all sources.\n",
        "- **Total Expenditures (`T_TOTEX`)**: Captures the total spending of the household.\n",
        "- **Recreational Expenditure (`T_RECREATION`)**: Amount spent on recreation and cultural activities.\n",
        "- **Food Expenditure (`T_FOOD`)**: Total amount spent on food.\n",
        "- **Education Expenditure (`T_EDUCATION`)**: Total amount spent on education.\n",
        "\n",
        "We will use statistical methods such as the Interquartile Range (IQR) and Z-score to identify outliers in these variables. Outliers will be visualized using boxplots and their impact on summary statistics will be discussed."
      ]
    },
    {
      "cell_type": "markdown",
      "id": "fe17aee6",
      "metadata": {},
      "source": [
        "#### Total Income (TOINC + EAINC)"
      ]
    },
    {
      "cell_type": "code",
      "execution_count": null,
      "id": "9bca49b1",
      "metadata": {},
      "outputs": [
        {
          "data": {
            "image/png": "[encoded data removed]",
            "text/plain": [
              "<Figure size 1000x500 with 1 Axes>"
            ]
          },
          "metadata": {},
          "output_type": "display_data"
        }
      ],
      "source": [
        "fies_df['income_sum'] = fies_df['TOINC'] + fies_df['EAINC']\n",
        "\n",
        "plt.figure(figsize=(10, 5))\n",
        "sns.boxplot(x='NATDC', y='income_sum', data=fies_df)\n",
        "plt.title(\"Income by Decile (Original)\")\n",
        "plt.yscale('log') \n",
        "plt.show()"
      ]
    },
    {
      "cell_type": "code",
      "execution_count": 60,
      "id": "bc243c1f",
      "metadata": {},
      "outputs": [],
      "source": [
        "cap = fies_df[fies_df['NATDC'] == 10]['income_sum'].quantile(0.95)  \n",
        "fies_df['income_sum_capped'] = np.where(  \n",
        "    (fies_df['NATDC'] == 10) & (fies_df['income_sum'] > cap),  \n",
        "    cap,  \n",
        "    fies_df['income_sum']  \n",
        ")  "
      ]
    },
    {
      "cell_type": "code",
      "execution_count": 61,
      "id": "0e335e74",
      "metadata": {},
      "outputs": [
        {
          "data": {
            "image/png": "[encoded data removed]",
            "text/plain": [
              "<Figure size 640x480 with 1 Axes>"
            ]
          },
          "metadata": {},
          "output_type": "display_data"
        }
      ],
      "source": [
        "sns.boxplot(x='NATDC', y='income_sum_capped', data=fies_df)\n",
        "plt.title(\"Income by Decile (Capped Decile 10)\")\n",
        "plt.yscale('log')\n",
        "plt.show()"
      ]
    },
    {
      "cell_type": "markdown",
      "id": "21be8b2f",
      "metadata": {},
      "source": [
        "#### Food Expenditures"
      ]
    },
    {
      "cell_type": "code",
      "execution_count": 62,
      "id": "246e42b8",
      "metadata": {},
      "outputs": [
        {
          "data": {
            "image/png": "[encoded data removed]",
            "text/plain": [
              "<Figure size 1000x500 with 1 Axes>"
            ]
          },
          "metadata": {},
          "output_type": "display_data"
        }
      ],
      "source": [
        "plt.figure(figsize=(10, 5))\n",
        "sns.boxplot(x='NATDC', y='T_FOOD', data=fies_df)\n",
        "plt.title(\"Food Expenditure by Decile (Original)\")\n",
        "plt.yscale('log') \n",
        "plt.show()"
      ]
    },
    {
      "cell_type": "code",
      "execution_count": 65,
      "id": "bcd952f3",
      "metadata": {},
      "outputs": [],
      "source": [
        "# Group by decile and get the 99th percentile for T_FOOD  \n",
        "food_caps = fies_df.groupby('NATDC')['T_FOOD'].quantile(0.99).to_dict()  \n",
        "\n",
        "# Cap each decile at its 99th percentile  \n",
        "fies_df['T_FOOD_CLEAN'] = fies_df.apply(  \n",
        "    lambda row: min(row['T_FOOD'], food_caps[row['NATDC']]),  \n",
        "    axis=1  \n",
        ")  "
      ]
    },
    {
      "cell_type": "code",
      "execution_count": 67,
      "id": "151a9a56",
      "metadata": {},
      "outputs": [],
      "source": [
        "# Flag extreme lows (e.g., <₱1K/year)  \n",
        "fies_df['LOW_FOOD_FLAG'] = (fies_df['T_FOOD'] < 1000)\n",
        "\n",
        "# Flag extreme highs (e.g., >₱500K/year)  \n",
        "fies_df['HIGH_FOOD_FLAG'] = (fies_df['T_FOOD'] > 500_000)  "
      ]
    },
    {
      "cell_type": "code",
      "execution_count": 70,
      "id": "117a162c",
      "metadata": {},
      "outputs": [
        {
          "data": {
            "text/plain": [
              "Text(0, 0.5, 'Food Expenses (₱)')"
            ]
          },
          "execution_count": 70,
          "metadata": {},
          "output_type": "execute_result"
        },
        {
          "data": {
            "image/png": "[encoded data removed]",
            "text/plain": [
              "<Figure size 640x480 with 1 Axes>"
            ]
          },
          "metadata": {},
          "output_type": "display_data"
        }
      ],
      "source": [
        "sns.boxplot(  \n",
        "    x='NATDC',  \n",
        "    y='T_FOOD_CLEAN',  \n",
        "    data=fies_df,  \n",
        ")  \n",
        "plt.title(\"Food Expenditure by Decile (Outliers Capped)\")  \n",
        "plt.ylabel(\"Food Expenses (₱)\")  "
      ]
    },
    {
      "cell_type": "markdown",
      "id": "d7073900",
      "metadata": {},
      "source": [
        "Start here for Q1"
      ]
    },
    {
      "cell_type": "markdown",
      "id": "4577db0f",
      "metadata": {},
      "source": [
        "Start here for Q2"
      ]
    },
    {
      "cell_type": "markdown",
      "id": "fbe00363",
      "metadata": {},
      "source": [
        "Start here for Q3"
      ]
    },
    {
      "cell_type": "markdown",
      "id": "9afd4899",
      "metadata": {},
      "source": [
        "### EDA Question 4: Are low-income households more likely to prioritize essential expenses over discretionary (e.g., entertainment, travel) ones\n",
        "\n",
        "In this analysis, we calculate the average percentage of household expenditure that is allocated to **discretionary categories**: recreation, transportation, and miscellaneous expenses. \n",
        "\n",
        "We compute a new column `T_DISCRETIONARY`, sum these three categories, and then divide it by `T_TOTEX` (total household expenditure) to get the proportion. We then group the data by income decile (`NATDC`) and calculate the average for each group.\n"
      ]
    },
    {
      "cell_type": "code",
      "execution_count": 10,
      "id": "4fe6e92d",
      "metadata": {},
      "outputs": [
        {
          "name": "stdout",
          "output_type": "stream",
          "text": [
            "EDA Question 4: Avg % of Total Expenditure on Discretionary Items\n",
            " Income Decile Avg % Discretionary Spending\n",
            "             1                         7.7%\n",
            "             2                        9.31%\n",
            "             3                       10.09%\n",
            "             4                       10.99%\n",
            "             5                       11.82%\n",
            "             6                       12.84%\n",
            "             7                       13.89%\n",
            "             8                       15.46%\n",
            "             9                       16.71%\n",
            "            10                       18.99%\n"
          ]
        }
      ],
      "source": [
        "fies_df['T_DISCRETIONARY'] = fies_df['T_RECREATION'] + fies_df['T_TRANSPORT'] + fies_df['T_MISCELLANEOUS']\n",
        "fies_df['PCT_DISCRETIONARY'] = fies_df['T_DISCRETIONARY'] / fies_df['T_TOTEX']\n",
        "\n",
        "discretionary_avg = fies_df.groupby('NATDC')['PCT_DISCRETIONARY'].mean().reset_index()\n",
        "discretionary_avg.columns = ['Income Decile', 'Avg % Discretionary Spending']\n",
        "discretionary_avg['Avg % Discretionary Spending'] = (discretionary_avg['Avg % Discretionary Spending'] * 100).round(2).astype(str) + '%'\n",
        "\n",
        "print(\"EDA Question 4: Avg % of Total Expenditure on Discretionary Items\")\n",
        "print(discretionary_avg.to_string(index=False))"
      ]
    },
    {
      "cell_type": "markdown",
      "id": "4ba5e80e",
      "metadata": {},
      "source": [
        "### EDA Question 5: How does the ratio of entertainment spending to income change as income increases?\n",
        "\n",
        "We compare how much of a household's budget goes to **essential** needs (food and housing/utilities) versus **discretionary** items. We calculate:\n",
        "- `PCT_ESSENTIAL` = (food + housing/utilities) / total expenditure\n",
        "\n",
        "We then group by income decile and calculate the average percentages to identify spending priorities across income groups.\n"
      ]
    },
    {
      "cell_type": "code",
      "execution_count": 11,
      "id": "8c902327",
      "metadata": {},
      "outputs": [
        {
          "name": "stdout",
          "output_type": "stream",
          "text": [
            "\n",
            "EDA Question 5: Essential vs Discretionary Spending (% of Total Expenditure)\n",
            " Income Decile Avg % Essential Avg % Discretionary\n",
            "             1          81.93%                7.7%\n",
            "             2          78.84%               9.31%\n",
            "             3          77.09%              10.09%\n",
            "             4          75.67%              10.99%\n",
            "             5          74.06%              11.82%\n",
            "             6          71.66%              12.84%\n",
            "             7          69.47%              13.89%\n",
            "             8          65.21%              15.46%\n",
            "             9          60.97%              16.71%\n",
            "            10           53.1%              18.99%\n"
          ]
        }
      ],
      "source": [
        "fies_df['T_ESSENTIAL'] = fies_df['T_FOOD'] + fies_df['T_HOUSING_WATER']\n",
        "fies_df['PCT_ESSENTIAL'] = fies_df['T_ESSENTIAL'] / fies_df['T_TOTEX']\n",
        "\n",
        "priority_avg = fies_df.groupby('NATDC')[['PCT_ESSENTIAL', 'PCT_DISCRETIONARY']].mean().reset_index()\n",
        "priority_avg.columns = ['Income Decile', 'Avg % Essential', 'Avg % Discretionary']\n",
        "priority_avg['Avg % Essential'] = (priority_avg['Avg % Essential'] * 100).round(2).astype(str) + '%'\n",
        "priority_avg['Avg % Discretionary'] = (priority_avg['Avg % Discretionary'] * 100).round(2).astype(str) + '%'\n",
        "\n",
        "print(\"\\nEDA Question 5: Essential vs Discretionary Spending (% of Total Expenditure)\")\n",
        "print(priority_avg.to_string(index=False))\n"
      ]
    },
    {
      "cell_type": "markdown",
      "id": "0a7d17e9",
      "metadata": {},
      "source": [
        "### EDA Question 6: How does the ratio of education spending to income change as income increases?\n",
        "\n",
        "We assess whether higher-income households allocate a greater share of their income to education. To do this, we calculate the ratio of education spending (`T_EDUCATION`) to total income (`TOINC`) for each household.\n",
        "\n",
        "We then compute the average of this ratio for each income decile to observe the trend across income levels.\n"
      ]
    },
    {
      "cell_type": "code",
      "execution_count": 12,
      "id": "e406d1df",
      "metadata": {},
      "outputs": [
        {
          "name": "stdout",
          "output_type": "stream",
          "text": [
            "\n",
            "EDA Question 6: Avg % of Income Spent on Education\n",
            " Income Decile Avg % of Income Spent on Education\n",
            "             1                               0.8%\n",
            "             2                               1.4%\n",
            "             3                               1.8%\n",
            "             4                               1.9%\n",
            "             5                               2.2%\n",
            "             6                               2.6%\n",
            "             7                               3.0%\n",
            "             8                               3.5%\n",
            "             9                               3.9%\n",
            "            10                               4.5%\n"
          ]
        }
      ],
      "source": [
        "fies_df = fies_df[fies_df['TOINC'] > 0]\n",
        "fies_df['PCT_EDUC_INC'] = fies_df['T_EDUCATION'] / fies_df['TOINC']\n",
        "\n",
        "education_pct = fies_df.groupby('NATDC')['PCT_EDUC_INC'].mean().reset_index()\n",
        "education_pct.columns = ['Income Decile', 'Avg % of Income Spent on Education']\n",
        "education_pct['Avg % of Income Spent on Education'] = (education_pct['Avg % of Income Spent on Education'] * 100).round(1).astype(str) + '%'\n",
        "\n",
        "print(\"\\nEDA Question 6: Avg % of Income Spent on Education\")\n",
        "print(education_pct.to_string(index=False))"
      ]
    },
    {
      "cell_type": "markdown",
      "id": "978c2350",
      "metadata": {},
      "source": [
        "Start here for Q7"
      ]
    }
  ],
  "metadata": {
    "kernelspec": {
      "display_name": ".venv",
      "language": "python",
      "name": "python3"
    },
    "language_info": {
      "codemirror_mode": {
        "name": "ipython",
        "version": 3
      },
      "file_extension": ".py",
      "mimetype": "text/x-python",
      "name": "python",
      "nbconvert_exporter": "python",
      "pygments_lexer": "ipython3",
      "version": "3.13.3"
    }
  },
  "nbformat": 4,
  "nbformat_minor": 5
}
