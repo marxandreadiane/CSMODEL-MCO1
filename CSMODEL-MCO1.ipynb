{
 "cells": [
  {
   "cell_type": "markdown",
   "id": "ada6131b",
   "metadata": {},
   "source": [
    "# MCO 1 - Family Income and Expenditure Survey\n",
    "In this Notebook, we will explore income and expenditure behavior across Filipino households using the 2012 Family Income and Expenditure Survey (FIES) dataset. We will focus on statistical inference, particularly confidence intervals and hypothesis testing for means, while also applying unsupervised learning techniques such as clustering to reveal patterns in household spending.\n",
    "\n",
    "We aim to understand how households from different income groups allocate their spending across essential categories like food, education, and utilities.\n",
    "\n",
    "The dataset, provided in the file FIES PUF 2012 Vol.1.CSV, comes from the Philippine Statistics Authority and contains anonymized microdata on household income from various sources (such as salaries, businesses, and remittances), categorized expenditures (including food, housing, education, health, and utilities), as well as demographic and geographic variables like region and urban/rural classification. Household characteristics such as household size and number of earners are also included. \n",
    "\n",
    "Through this rich dataset, we aim to answer the research question: “What are the key differences in expenditure allocation (e.g., food, education, utilities) across income groups?”"
   ]
  },
  {
   "cell_type": "markdown",
   "id": "cdf4c9eb",
   "metadata": {},
   "source": [
    "# Import Libraries\n",
    "\n",
    "For the statistical functions, we will be using `scipy`, specifically, the `stats` submodule. The [`scipy.stats`](https://docs.scipy.org/doc/scipy/reference/stats.html) module provides a number of probability distribution functions, summary and frequency statistics, correlation functions, statistical tests, and more."
   ]
  },
  {
   "cell_type": "code",
   "execution_count": null,
   "id": "9da93fba",
   "metadata": {},
   "outputs": [],
   "source": [
    "import numpy as np\n",
    "import pandas as pd\n",
    "import matplotlib.pyplot as plt\n",
    "from scipy.stats import norm\n",
    "from scipy.stats import ttest_ind"
   ]
  }
 ],
 "metadata": {
  "kernelspec": {
   "display_name": ".venv",
   "language": "python",
   "name": "python3"
  },
  "language_info": {
   "name": "python",
   "version": "3.13.3"
  }
 },
 "nbformat": 4,
 "nbformat_minor": 5
}
